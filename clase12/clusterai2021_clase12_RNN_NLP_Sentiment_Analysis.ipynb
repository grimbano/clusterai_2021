{
 "cells": [
  {
   "cell_type": "markdown",
   "metadata": {
    "id": "G0JuwkKeH9dW"
   },
   "source": [
    "---\n",
    "\n",
    "# ClusterAI 2021\n",
    "\n",
    "# Ciencia de Datos - Ingeniería Industrial - UTN BA\n",
    "\n",
    "# clase_12: Practica Redes Neuronales Recurrentes - NLP - Sentiment Analisys\n",
    "\n",
    "### Elaborado por: Aguirre Nicolas\n",
    "\n",
    "Imagenes: https://guide.allennlp.org/"
   ]
  },
  {
   "cell_type": "markdown",
   "metadata": {
    "id": "oq-sk09JHScL"
   },
   "source": [
    "---\n",
    "\n",
    "El objetivo de esta notebook es clasificar el *sentimiento* (Positivo, Negativo o Neutral) de un dataset de criticas/reviews sobre aplicaciones del Google Play Store.\n",
    "\n",
    "Para lograr ésto, nuestro modelo tiene que ser capaz de \"interpretar\" el contenido de un texto, el cual puede ser descompuesto en:\n",
    "\n",
    "  * Letras / Caracteres\n",
    "  * Palabras \n",
    "  * Frases, \n",
    "  * etc.\n",
    "\n",
    "Esto representa un primer desafio: como y cuales seran los inputs ($X_t$) que ingrese al modelo?. Este punto es el que discutiremos con la tecnica llamada *Tokenization*. \n",
    "\n",
    "El problema se vuelve mas complejo cuando la *temporalidad* o el *orden* de las de los inputs (el $t$ de $X_t$) define el significado de una frase:\n",
    "\n",
    "  * Un texto con todas sus palabras mezcladas carece de sentido, verdad? o,\n",
    "  * Una negacion antes o despues de una frase puede cambiar completamente el significado de la misma (Ej: \"*no recomiendo descargar esta app*\" vs. \"*recomiendo descargar esta app, no pierdan la oportunidad*\"). \n",
    "  \n",
    "Esta dependencia temporal se abordará (en este ejemplo en particular) con el uso de Redes Neuronales Recurrentes (**RNN**, de sus siglas en ingles.) \n",
    "\n",
    "# 1) Objetivo\n",
    "\n",
    "![](https://guide.allennlp.org/part1/your-first-model/designing-a-model-1.svg)\n",
    "## 2) Tokenization\n",
    "![](https://guide.allennlp.org/part1/your-first-model/designing-a-model-2.svg)\n",
    "## 3) Arquitectura\n",
    "![](https://guide.allennlp.org/part1/your-first-model/designing-a-model-4.svg)\n",
    "## 4) Entrenamiento\n",
    "![](https://guide.allennlp.org/part1/your-first-model/designing-a-model-5.svg)"
   ]
  },
  {
   "cell_type": "markdown",
   "metadata": {
    "id": "stl-KuqP0rLJ"
   },
   "source": [
    "# Installs en Google Colab."
   ]
  },
  {
   "cell_type": "code",
   "execution_count": null,
   "metadata": {
    "id": "EqjH_TEKqlCY"
   },
   "outputs": [],
   "source": [
    "# Instalamos librerias\n",
    "!pip install transformers\n",
    "!pip install datasets\n",
    "!pip install tokenizers\n",
    "!pip install gputil\n",
    "!pip install psutil\n",
    "!pip install humanize"
   ]
  },
  {
   "cell_type": "markdown",
   "metadata": {
    "id": "IkH3Wl131O21"
   },
   "source": [
    "# Imports"
   ]
  },
  {
   "cell_type": "code",
   "execution_count": 3,
   "metadata": {
    "colab": {
     "base_uri": "https://localhost:8080/"
    },
    "executionInfo": {
     "elapsed": 1054,
     "status": "ok",
     "timestamp": 1637891020330,
     "user": {
      "displayName": "Nicolas Aguirre",
      "photoUrl": "https://lh3.googleusercontent.com/a-/AOh14GjQfPiLxWme8kkxP92950-9jF1QGUs_5FsIVer1Jg=s64",
      "userId": "17499392061323227857"
     },
     "user_tz": 180
    },
    "id": "Y4p-chnUy2SP",
    "outputId": "9c71263b-3b9b-4230-e204-fdc03fd56583"
   },
   "outputs": [
    {
     "name": "stdout",
     "output_type": "stream",
     "text": [
      "1.10.0+cu111\n",
      "cuda\n"
     ]
    }
   ],
   "source": [
    "# Pytorch\n",
    "import torch\n",
    "import torch.nn as nn\n",
    "from torch.utils.data import TensorDataset, Dataset, DataLoader\n",
    "from torch.optim import Adam\n",
    "import torch.nn.functional as F\n",
    "device = torch.device(\"cuda\" if torch.cuda.is_available() else \"cpu\")\n",
    "print(torch.__version__)\n",
    "print(device)\n",
    "# Datasets\n",
    "import datasets\n",
    "from datasets import load_dataset\n",
    "#Tokenizer\n",
    "from tokenizers import decoders, models, normalizers, pre_tokenizers, processors, trainers, Tokenizer\n",
    "# Varias\n",
    "import os,sys,humanize,psutil,GPUtil,gc\n",
    "import pandas as pd\n",
    "import matplotlib.pyplot as plt\n",
    "import numpy as np\n",
    "import seaborn as sns\n",
    "from sklearn.model_selection import train_test_split\n",
    "from sklearn import preprocessing\n",
    "# Metricas\n",
    "from sklearn.metrics import f1_score, classification_report,confusion_matrix,accuracy_score\n",
    "from scipy.special import softmax\n",
    "# Barra de Progreso\n",
    "from tqdm.autonotebook import tqdm , trange"
   ]
  },
  {
   "cell_type": "code",
   "execution_count": 4,
   "metadata": {
    "executionInfo": {
     "elapsed": 383,
     "status": "ok",
     "timestamp": 1637891037422,
     "user": {
      "displayName": "Nicolas Aguirre",
      "photoUrl": "https://lh3.googleusercontent.com/a-/AOh14GjQfPiLxWme8kkxP92950-9jF1QGUs_5FsIVer1Jg=s64",
      "userId": "17499392061323227857"
     },
     "user_tz": 180
    },
    "id": "aZR16dgHHyfp"
   },
   "outputs": [],
   "source": [
    "# Fucion para printear el uso RAM / GPU \n",
    "def mem_report():\n",
    "  print(\"CPU RAM Free: \" + humanize.naturalsize( psutil.virtual_memory().available ))\n",
    "  GPUs = GPUtil.getGPUs()\n",
    "  for i, gpu in enumerate(GPUs):\n",
    "    print('GPU {:d} ... Mem Free: {:.0f}MB / {:.0f}MB | Utilization {:3.0f}%'.format(i, gpu.memoryFree, gpu.memoryTotal, gpu.memoryUtil*100))"
   ]
  },
  {
   "cell_type": "code",
   "execution_count": null,
   "metadata": {
    "id": "vHADV0Ea2Fl0"
   },
   "outputs": [],
   "source": [
    "# Para ver el reporte de la GPU que nos toco y la cantidad de RAM\n",
    "torch.cuda.empty_cache()\n",
    "gc.collect()\n",
    "mem_report()\n",
    "!nvidia-smi"
   ]
  },
  {
   "cell_type": "code",
   "execution_count": 6,
   "metadata": {
    "colab": {
     "base_uri": "https://localhost:8080/"
    },
    "executionInfo": {
     "elapsed": 27649,
     "status": "ok",
     "timestamp": 1637891065982,
     "user": {
      "displayName": "Nicolas Aguirre",
      "photoUrl": "https://lh3.googleusercontent.com/a-/AOh14GjQfPiLxWme8kkxP92950-9jF1QGUs_5FsIVer1Jg=s64",
      "userId": "17499392061323227857"
     },
     "user_tz": 180
    },
    "id": "6So4hgcdldk7",
    "outputId": "b767e1bc-1674-4d1d-bd4c-630b9a5dc760"
   },
   "outputs": [
    {
     "name": "stdout",
     "output_type": "stream",
     "text": [
      "Mounted at /content/gdrive\n"
     ]
    }
   ],
   "source": [
    "# Montamos el Google Drive\n",
    "from google.colab import drive\n",
    "drive.mount('/content/gdrive',force_remount=True)"
   ]
  },
  {
   "cell_type": "markdown",
   "metadata": {
    "id": "x1HEmDaT0yBx"
   },
   "source": [
    "# Dataset\n",
    "\n",
    "Google Play Store:\n",
    "https://www.kaggle.com/lava18/google-play-store-apps\n",
    "\n",
    "Archivo: **googleplaystore_user_reviews.csv**\n",
    "\n"
   ]
  },
  {
   "cell_type": "code",
   "execution_count": null,
   "metadata": {
    "id": "znGMiMLxIc51"
   },
   "outputs": [],
   "source": [
    "root_path = \"/content/gdrive/MyDrive/Colab Notebooks/ClusterAI/Sentiment Analisys/\"\n",
    "google_df = pd.read_csv(root_path+\"googleplaystore_user_reviews.csv\")\n",
    "google_df.dropna(how ='any', inplace = True)\n",
    "google_df = google_df.drop_duplicates()\n",
    "google_df"
   ]
  },
  {
   "cell_type": "code",
   "execution_count": 61,
   "metadata": {
    "colab": {
     "base_uri": "https://localhost:8080/",
     "height": 424
    },
    "executionInfo": {
     "elapsed": 12,
     "status": "ok",
     "timestamp": 1637897190600,
     "user": {
      "displayName": "Nicolas Aguirre",
      "photoUrl": "https://lh3.googleusercontent.com/a-/AOh14GjQfPiLxWme8kkxP92950-9jF1QGUs_5FsIVer1Jg=s64",
      "userId": "17499392061323227857"
     },
     "user_tz": 180
    },
    "id": "hX7EyabNIc3b",
    "outputId": "f42d6568-a9eb-4c4d-9062-ab88acaf4b80"
   },
   "outputs": [
    {
     "data": {
      "text/html": [
       "<div>\n",
       "<style scoped>\n",
       "    .dataframe tbody tr th:only-of-type {\n",
       "        vertical-align: middle;\n",
       "    }\n",
       "\n",
       "    .dataframe tbody tr th {\n",
       "        vertical-align: top;\n",
       "    }\n",
       "\n",
       "    .dataframe thead th {\n",
       "        text-align: right;\n",
       "    }\n",
       "</style>\n",
       "<table border=\"1\" class=\"dataframe\">\n",
       "  <thead>\n",
       "    <tr style=\"text-align: right;\">\n",
       "      <th></th>\n",
       "      <th>text</th>\n",
       "      <th>label</th>\n",
       "    </tr>\n",
       "  </thead>\n",
       "  <tbody>\n",
       "    <tr>\n",
       "      <th>0</th>\n",
       "      <td>I like eat delicious food. That's I'm cooking ...</td>\n",
       "      <td>Positive</td>\n",
       "    </tr>\n",
       "    <tr>\n",
       "      <th>1</th>\n",
       "      <td>This help eating healthy exercise regular basis</td>\n",
       "      <td>Positive</td>\n",
       "    </tr>\n",
       "    <tr>\n",
       "      <th>3</th>\n",
       "      <td>Works great especially going grocery store</td>\n",
       "      <td>Positive</td>\n",
       "    </tr>\n",
       "    <tr>\n",
       "      <th>4</th>\n",
       "      <td>Best idea us</td>\n",
       "      <td>Positive</td>\n",
       "    </tr>\n",
       "    <tr>\n",
       "      <th>5</th>\n",
       "      <td>Best way</td>\n",
       "      <td>Positive</td>\n",
       "    </tr>\n",
       "    <tr>\n",
       "      <th>...</th>\n",
       "      <td>...</td>\n",
       "      <td>...</td>\n",
       "    </tr>\n",
       "    <tr>\n",
       "      <th>64222</th>\n",
       "      <td>Most ads older many agents ..not much owner po...</td>\n",
       "      <td>Positive</td>\n",
       "    </tr>\n",
       "    <tr>\n",
       "      <th>64223</th>\n",
       "      <td>If photos posted portal load, fit purpose. I'm...</td>\n",
       "      <td>Positive</td>\n",
       "    </tr>\n",
       "    <tr>\n",
       "      <th>64226</th>\n",
       "      <td>Dumb app, I wanted post property rent give opt...</td>\n",
       "      <td>Negative</td>\n",
       "    </tr>\n",
       "    <tr>\n",
       "      <th>64227</th>\n",
       "      <td>I property business got link SMS happy perform...</td>\n",
       "      <td>Positive</td>\n",
       "    </tr>\n",
       "    <tr>\n",
       "      <th>64230</th>\n",
       "      <td>Useless app, I searched flats kondapur, Hydera...</td>\n",
       "      <td>Negative</td>\n",
       "    </tr>\n",
       "  </tbody>\n",
       "</table>\n",
       "<p>29692 rows × 2 columns</p>\n",
       "</div>"
      ],
      "text/plain": [
       "                                                    text     label\n",
       "0      I like eat delicious food. That's I'm cooking ...  Positive\n",
       "1        This help eating healthy exercise regular basis  Positive\n",
       "3             Works great especially going grocery store  Positive\n",
       "4                                           Best idea us  Positive\n",
       "5                                               Best way  Positive\n",
       "...                                                  ...       ...\n",
       "64222  Most ads older many agents ..not much owner po...  Positive\n",
       "64223  If photos posted portal load, fit purpose. I'm...  Positive\n",
       "64226  Dumb app, I wanted post property rent give opt...  Negative\n",
       "64227  I property business got link SMS happy perform...  Positive\n",
       "64230  Useless app, I searched flats kondapur, Hydera...  Negative\n",
       "\n",
       "[29692 rows x 2 columns]"
      ]
     },
     "execution_count": 61,
     "metadata": {},
     "output_type": "execute_result"
    }
   ],
   "source": [
    "# Vamos a eliminar columnas innecesarias y renombrar las que nos sirven.\n",
    "google_df = google_df.drop(columns=['Sentiment_Polarity','App','Sentiment_Subjectivity']).rename(columns={\"Translated_Review\": \"text\", \"Sentiment\": \"label\"})\n",
    "google_df['text'] = google_df['text'].astype(str)\n",
    "google_df"
   ]
  },
  {
   "cell_type": "markdown",
   "metadata": {
    "id": "6LVtKPkFI6_N"
   },
   "source": [
    "## Label Encoder"
   ]
  },
  {
   "cell_type": "code",
   "execution_count": 62,
   "metadata": {
    "executionInfo": {
     "elapsed": 11,
     "status": "ok",
     "timestamp": 1637897190601,
     "user": {
      "displayName": "Nicolas Aguirre",
      "photoUrl": "https://lh3.googleusercontent.com/a-/AOh14GjQfPiLxWme8kkxP92950-9jF1QGUs_5FsIVer1Jg=s64",
      "userId": "17499392061323227857"
     },
     "user_tz": 180
    },
    "id": "M4UC3wwWIcwz"
   },
   "outputs": [],
   "source": [
    "# Pasemos a codigo el label de cada sample\n",
    "le = preprocessing.LabelEncoder()\n",
    "google_df['label'] = le.fit_transform(google_df['label'])"
   ]
  },
  {
   "cell_type": "code",
   "execution_count": null,
   "metadata": {
    "id": "EKZTfDZfIctt"
   },
   "outputs": [],
   "source": [
    "name_classes = []\n",
    "for i_c in range(len(le.classes_)):\n",
    "    cls_name = le.inverse_transform([i_c]) \n",
    "    print(i_c,cls_name[0])\n",
    "    name_classes.append(cls_name[0])\n",
    "name_classes"
   ]
  },
  {
   "cell_type": "markdown",
   "metadata": {
    "id": "7KVJ_2r6PVi8"
   },
   "source": [
    "## Split"
   ]
  },
  {
   "cell_type": "code",
   "execution_count": 64,
   "metadata": {
    "executionInfo": {
     "elapsed": 5,
     "status": "ok",
     "timestamp": 1637897190602,
     "user": {
      "displayName": "Nicolas Aguirre",
      "photoUrl": "https://lh3.googleusercontent.com/a-/AOh14GjQfPiLxWme8kkxP92950-9jF1QGUs_5FsIVer1Jg=s64",
      "userId": "17499392061323227857"
     },
     "user_tz": 180
    },
    "id": "H2NBevAaIcq9"
   },
   "outputs": [],
   "source": [
    "google_df_train,google_df_test = train_test_split(google_df,random_state=0,test_size=0.15)\n",
    "google_df_train,google_df_val = train_test_split(google_df_train,random_state=0,test_size=0.15)\n",
    "\n",
    "google_df_train.reset_index(drop=True,inplace=True)\n",
    "google_df_val.reset_index(drop=True,inplace=True)\n",
    "google_df_test.reset_index(drop=True,inplace=True)"
   ]
  },
  {
   "cell_type": "markdown",
   "metadata": {
    "id": "g5fl29MRJJ-F"
   },
   "source": [
    "To CSV"
   ]
  },
  {
   "cell_type": "code",
   "execution_count": 65,
   "metadata": {
    "executionInfo": {
     "elapsed": 983,
     "status": "ok",
     "timestamp": 1637897192377,
     "user": {
      "displayName": "Nicolas Aguirre",
      "photoUrl": "https://lh3.googleusercontent.com/a-/AOh14GjQfPiLxWme8kkxP92950-9jF1QGUs_5FsIVer1Jg=s64",
      "userId": "17499392061323227857"
     },
     "user_tz": 180
    },
    "id": "6S4mypE7JMUK"
   },
   "outputs": [],
   "source": [
    "google_df_train.to_csv(root_path+\"train.csv\",index=False)\n",
    "google_df_val.to_csv(root_path+\"val.csv\",index=False)\n",
    "google_df_test.to_csv(root_path+\"test.csv\",index=False)"
   ]
  },
  {
   "cell_type": "markdown",
   "metadata": {
    "id": "Mbkg2DuMJVtE"
   },
   "source": [
    "# 2) Tokenizacion"
   ]
  },
  {
   "cell_type": "markdown",
   "metadata": {
    "id": "PKoXrA0TJZvj"
   },
   "source": [
    "## Loading Dataset"
   ]
  },
  {
   "cell_type": "code",
   "execution_count": 66,
   "metadata": {
    "executionInfo": {
     "elapsed": 5,
     "status": "ok",
     "timestamp": 1637897192378,
     "user": {
      "displayName": "Nicolas Aguirre",
      "photoUrl": "https://lh3.googleusercontent.com/a-/AOh14GjQfPiLxWme8kkxP92950-9jF1QGUs_5FsIVer1Jg=s64",
      "userId": "17499392061323227857"
     },
     "user_tz": 180
    },
    "id": "awmqe8UHJMNj"
   },
   "outputs": [],
   "source": [
    "# Definiremos las features de nuestro objeto \"dataset\" \n",
    "# de la libreria llamada \"Dataset\" de HuggingFace (libreria especializada en NLP)\n",
    "features_ds = datasets.Features(\n",
    "        {\"text\": datasets.Value(\"string\"),\n",
    "         \"label\": datasets.features.ClassLabel(names=name_classes)}\n",
    ")"
   ]
  },
  {
   "cell_type": "code",
   "execution_count": null,
   "metadata": {
    "id": "Oy3LL78uJMLe"
   },
   "outputs": [],
   "source": [
    "# Cargamos los CSV en el objeto dataset (train, val, y test set).\n",
    "# Tambien le pasamos las features que definimos en la celda anterior\n",
    "dataset_google = load_dataset('csv', data_files={'train':root_path+\"train.csv\",\n",
    "                                                 'val':root_path+\"val.csv\",\n",
    "                                          'test':root_path+\"test.csv\"},\n",
    "                             features=features_ds)"
   ]
  },
  {
   "cell_type": "markdown",
   "metadata": {
    "id": "7Lv7NZ7OJmZD"
   },
   "source": [
    "## Algoritmo/modelo de Tokenizacion"
   ]
  },
  {
   "cell_type": "code",
   "execution_count": 68,
   "metadata": {
    "executionInfo": {
     "elapsed": 6,
     "status": "ok",
     "timestamp": 1637897192840,
     "user": {
      "displayName": "Nicolas Aguirre",
      "photoUrl": "https://lh3.googleusercontent.com/a-/AOh14GjQfPiLxWme8kkxP92950-9jF1QGUs_5FsIVer1Jg=s64",
      "userId": "17499392061323227857"
     },
     "user_tz": 180
    },
    "id": "XIHFMnLRJMH9"
   },
   "outputs": [],
   "source": [
    "# Primero definimos el Algoritmo /modelo que vamos a utilizar\n",
    "# En este caso particular, vamos a usar el \"wordLevel\". Vamos a separar el texto por espacios y signos de puntuacion.\n",
    "\n",
    "# Debido a que luego definiremos una cantidad maxima de palabras que tendremos \n",
    "# en nuestro vocabulario, tenemos que definir tambien un token especial para \n",
    "# las palabras que queden incorporadas.\n",
    "unk_token = \"[UNK]\"\n",
    "\n",
    "# Creamos nuestro objeto Tokenizer, el cual le iremos incorporando funciones\n",
    "# en las siguientes celdas\n",
    "tokenizer_custom = Tokenizer(models.WordLevel(unk_token=\"[UNK]\"))"
   ]
  },
  {
   "cell_type": "markdown",
   "metadata": {
    "id": "HS0BylWpJqQi"
   },
   "source": [
    "## Pre-Tokenizer\n",
    "\n",
    "La pretokenización es el acto de dividir un texto en objetos más pequeños "
   ]
  },
  {
   "cell_type": "code",
   "execution_count": 69,
   "metadata": {
    "executionInfo": {
     "elapsed": 785,
     "status": "ok",
     "timestamp": 1637897193619,
     "user": {
      "displayName": "Nicolas Aguirre",
      "photoUrl": "https://lh3.googleusercontent.com/a-/AOh14GjQfPiLxWme8kkxP92950-9jF1QGUs_5FsIVer1Jg=s64",
      "userId": "17499392061323227857"
     },
     "user_tz": 180
    },
    "id": "drPhQRgRJMFP"
   },
   "outputs": [],
   "source": [
    "# Pre-tokenizador:\n",
    "pre_tok = pre_tokenizers.Whitespace()\n",
    "tokenizer_custom.pre_tokenizer = pre_tok"
   ]
  },
  {
   "cell_type": "markdown",
   "metadata": {
    "id": "w4Js-uJNJt9s"
   },
   "source": [
    "## Trainer"
   ]
  },
  {
   "cell_type": "code",
   "execution_count": 70,
   "metadata": {
    "executionInfo": {
     "elapsed": 3,
     "status": "ok",
     "timestamp": 1637897194340,
     "user": {
      "displayName": "Nicolas Aguirre",
      "photoUrl": "https://lh3.googleusercontent.com/a-/AOh14GjQfPiLxWme8kkxP92950-9jF1QGUs_5FsIVer1Jg=s64",
      "userId": "17499392061323227857"
     },
     "user_tz": 180
    },
    "id": "1AW9X6UeJMC5"
   },
   "outputs": [],
   "source": [
    "# Importante: \n",
    "# 1) Cada Tokenizer tiene su trainer asociado ya que internamiente son algoritmos distintos\n",
    "# 2) Al trainer le debemos pasar tambien los tokens especiales que utilicemos \n",
    "\n",
    "token_trainer = tokenizer_custom.model.get_trainer()\n",
    "# Definimos el tamaño de nuestro vocabulario\n",
    "token_trainer.vocab_size = 15000\n",
    "# La cantidad minima de veces que una palabra/token tiene que aparecer para ser incorpoada\n",
    "token_trainer.min_frequency = 2\n",
    "# Definimos los tokens especiales que utilizaremos.\n",
    "special_tokens = [\"[UNK]\",\"[PAD]\",\"[SOS]\",\"[EOS]\"]\n",
    "token_trainer.special_tokens = special_tokens"
   ]
  },
  {
   "cell_type": "markdown",
   "metadata": {
    "id": "DIN57pqHJy2z"
   },
   "source": [
    "## Training"
   ]
  },
  {
   "cell_type": "code",
   "execution_count": 71,
   "metadata": {
    "executionInfo": {
     "elapsed": 2,
     "status": "ok",
     "timestamp": 1637897194340,
     "user": {
      "displayName": "Nicolas Aguirre",
      "photoUrl": "https://lh3.googleusercontent.com/a-/AOh14GjQfPiLxWme8kkxP92950-9jF1QGUs_5FsIVer1Jg=s64",
      "userId": "17499392061323227857"
     },
     "user_tz": 180
    },
    "id": "0tYFupcUJ1Qd"
   },
   "outputs": [],
   "source": [
    "# Creamos una funcion que itere por batch en nuestro dataset['text']\n",
    "def batch_iterator(dataset,batch_size):\n",
    "    for i in range(0, len(dataset), batch_size):\n",
    "        yield dataset[i : i + batch_size][\"text\"]\n",
    "\n",
    "# Stackoverflow - yield\n",
    "# https://stackoverflow.com/questions/231767/what-does-the-yield-keyword-do        "
   ]
  },
  {
   "cell_type": "code",
   "execution_count": 72,
   "metadata": {
    "executionInfo": {
     "elapsed": 2,
     "status": "ok",
     "timestamp": 1637897195084,
     "user": {
      "displayName": "Nicolas Aguirre",
      "photoUrl": "https://lh3.googleusercontent.com/a-/AOh14GjQfPiLxWme8kkxP92950-9jF1QGUs_5FsIVer1Jg=s64",
      "userId": "17499392061323227857"
     },
     "user_tz": 180
    },
    "id": "HKR0dWT5J1Nd"
   },
   "outputs": [],
   "source": [
    "# Nuestor tokenizer ya esta en condiciones de ser entrenado y definir que indices \n",
    "# se le asignara a cada palabra/token\n",
    "\n",
    "batch_size_tok = 1000 # Cantidad de frases que vamos muestreando\n",
    "tokenizer_custom.train_from_iterator(batch_iterator(dataset_google['train'],batch_size_tok), trainer=token_trainer)"
   ]
  },
  {
   "cell_type": "markdown",
   "metadata": {
    "id": "B5C7ImilJ8Oa"
   },
   "source": [
    "## Post- Tokenization"
   ]
  },
  {
   "cell_type": "markdown",
   "metadata": {
    "id": "McpluEARJ_G1"
   },
   "source": [
    "### [SOS] & [EOS]\n",
    "\n",
    "Start of Sentence & End Of Sentence"
   ]
  },
  {
   "cell_type": "code",
   "execution_count": 73,
   "metadata": {
    "executionInfo": {
     "elapsed": 3,
     "status": "ok",
     "timestamp": 1637897197277,
     "user": {
      "displayName": "Nicolas Aguirre",
      "photoUrl": "https://lh3.googleusercontent.com/a-/AOh14GjQfPiLxWme8kkxP92950-9jF1QGUs_5FsIVer1Jg=s64",
      "userId": "17499392061323227857"
     },
     "user_tz": 180
    },
    "id": "zbKcqKCOJ1Kd"
   },
   "outputs": [],
   "source": [
    "# Comunmente se incorporan estos tokens para que el modelo aprenda cuando una\n",
    "# frase comienza y cuando una frase termina.\n",
    "post_toke = processors.TemplateProcessing(\n",
    "    single=\"[SOS] $A [EOS]\",\n",
    "    special_tokens=[\n",
    "        (\"[SOS]\", 2),\n",
    "        (\"[EOS]\", 3),\n",
    "    ],\n",
    ")\n",
    "tokenizer_custom.post_processor = post_toke"
   ]
  },
  {
   "cell_type": "code",
   "execution_count": 74,
   "metadata": {
    "colab": {
     "base_uri": "https://localhost:8080/"
    },
    "executionInfo": {
     "elapsed": 10,
     "status": "ok",
     "timestamp": 1637897197659,
     "user": {
      "displayName": "Nicolas Aguirre",
      "photoUrl": "https://lh3.googleusercontent.com/a-/AOh14GjQfPiLxWme8kkxP92950-9jF1QGUs_5FsIVer1Jg=s64",
      "userId": "17499392061323227857"
     },
     "user_tz": 180
    },
    "id": "vnFI_KA1J1IR",
    "outputId": "7ca1635d-142c-4740-cdec-438e712dd710"
   },
   "outputs": [
    {
     "name": "stdout",
     "output_type": "stream",
     "text": [
      "[2, 482, 95, 127, 34, 0, 1080, 0, 0, 3]\n",
      "['[SOS]', 'what', 'is', 'this', '?', 'veryrareword', 'test', '123', '111', '[EOS]']\n"
     ]
    }
   ],
   "source": [
    "encoding = tokenizer_custom.encode(\"what is this ?veryrareword test 123 111\")\n",
    "print(encoding.ids)\n",
    "print(encoding.tokens)"
   ]
  },
  {
   "cell_type": "markdown",
   "metadata": {
    "id": "DHrzmrqEKObS"
   },
   "source": [
    "### Padding y Truncation"
   ]
  },
  {
   "cell_type": "code",
   "execution_count": 75,
   "metadata": {
    "colab": {
     "base_uri": "https://localhost:8080/"
    },
    "executionInfo": {
     "elapsed": 6,
     "status": "ok",
     "timestamp": 1637897197659,
     "user": {
      "displayName": "Nicolas Aguirre",
      "photoUrl": "https://lh3.googleusercontent.com/a-/AOh14GjQfPiLxWme8kkxP92950-9jF1QGUs_5FsIVer1Jg=s64",
      "userId": "17499392061323227857"
     },
     "user_tz": 180
    },
    "id": "eAuC80ZfJ1GG",
    "outputId": "c47945ba-5ab9-4554-9cdb-c3a40f9cb79a"
   },
   "outputs": [
    {
     "name": "stdout",
     "output_type": "stream",
     "text": [
      "[2, 482, 95, 127, 34, 0, 1080, 0, 0, 3, 1, 1, 1, 1, 1, 1, 1, 1, 1, 1, 1, 1, 1, 1, 1, 1, 1, 1, 1, 1, 1, 1, 1, 1, 1, 1, 1, 1, 1, 1, 1, 1, 1, 1, 1, 1, 1, 1, 1, 1, 1, 1, 1, 1, 1, 1, 1, 1, 1, 1, 1, 1, 1, 1, 1, 1, 1, 1, 1, 1, 1, 1, 1, 1, 1, 1, 1, 1, 1, 1, 1, 1, 1, 1, 1, 1, 1, 1, 1, 1, 1, 1, 1, 1, 1, 1, 1, 1, 1, 1, 1, 1, 1, 1, 1, 1, 1, 1, 1, 1, 1, 1, 1, 1, 1, 1, 1, 1, 1, 1]\n",
      "['[SOS]', 'what', 'is', 'this', '?', 'veryrareword', 'test', '123', '111', '[EOS]', '[PAD]', '[PAD]', '[PAD]', '[PAD]', '[PAD]', '[PAD]', '[PAD]', '[PAD]', '[PAD]', '[PAD]', '[PAD]', '[PAD]', '[PAD]', '[PAD]', '[PAD]', '[PAD]', '[PAD]', '[PAD]', '[PAD]', '[PAD]', '[PAD]', '[PAD]', '[PAD]', '[PAD]', '[PAD]', '[PAD]', '[PAD]', '[PAD]', '[PAD]', '[PAD]', '[PAD]', '[PAD]', '[PAD]', '[PAD]', '[PAD]', '[PAD]', '[PAD]', '[PAD]', '[PAD]', '[PAD]', '[PAD]', '[PAD]', '[PAD]', '[PAD]', '[PAD]', '[PAD]', '[PAD]', '[PAD]', '[PAD]', '[PAD]', '[PAD]', '[PAD]', '[PAD]', '[PAD]', '[PAD]', '[PAD]', '[PAD]', '[PAD]', '[PAD]', '[PAD]', '[PAD]', '[PAD]', '[PAD]', '[PAD]', '[PAD]', '[PAD]', '[PAD]', '[PAD]', '[PAD]', '[PAD]', '[PAD]', '[PAD]', '[PAD]', '[PAD]', '[PAD]', '[PAD]', '[PAD]', '[PAD]', '[PAD]', '[PAD]', '[PAD]', '[PAD]', '[PAD]', '[PAD]', '[PAD]', '[PAD]', '[PAD]', '[PAD]', '[PAD]', '[PAD]', '[PAD]', '[PAD]', '[PAD]', '[PAD]', '[PAD]', '[PAD]', '[PAD]', '[PAD]', '[PAD]', '[PAD]', '[PAD]', '[PAD]', '[PAD]', '[PAD]', '[PAD]', '[PAD]', '[PAD]', '[PAD]', '[PAD]', '[PAD]']\n"
     ]
    }
   ],
   "source": [
    "# Para entrenar nuestros modelos en batch, la longitud de todos los textos deben ser iguales.\n",
    "# Por tal motivo, vamos a hablitar \"padding\" y \"truncation\" para los textos mas cortos y largos, respectivamente.\n",
    "\n",
    "# Definimos la longitud maxima del modelo\n",
    "max_lenght = 120\n",
    "\n",
    "# Padding: agregar datos NO-informativos para alcanzar una longitud esperada \n",
    "# en una secuencia.\n",
    "tokenizer_custom.enable_padding(direction='right', # El padding es a la derecha\n",
    "                                pad_id=1 ,\n",
    "                                pad_to_multiple_of = max_lenght,\n",
    "                                pad_token=\"[PAD]\")\n",
    "#Truncation\n",
    "tokenizer_custom.enable_truncation(max_lenght,\n",
    "                                   stride=0,\n",
    "                                   strategy='longest_first')\n",
    "\n",
    "encoding = tokenizer_custom.encode(\"what is this ?veryrareword test 123 111\")\n",
    "print(encoding.ids)\n",
    "print(encoding.tokens)"
   ]
  },
  {
   "cell_type": "markdown",
   "metadata": {
    "id": "-VKo-qndKWpi"
   },
   "source": [
    "## Dataset Tokenization\n",
    "\n",
    "Recien ahora, con nuestro tokenizador entrenado podremos aplicarlo a nuestro dataset!"
   ]
  },
  {
   "cell_type": "code",
   "execution_count": 76,
   "metadata": {
    "executionInfo": {
     "elapsed": 2,
     "status": "ok",
     "timestamp": 1637897198663,
     "user": {
      "displayName": "Nicolas Aguirre",
      "photoUrl": "https://lh3.googleusercontent.com/a-/AOh14GjQfPiLxWme8kkxP92950-9jF1QGUs_5FsIVer1Jg=s64",
      "userId": "17499392061323227857"
     },
     "user_tz": 180
    },
    "id": "BAjpmD2tJ1Dv"
   },
   "outputs": [],
   "source": [
    "# Creamos una funcion que aplicara el encode a nuestro todo el dataset y va a crear\n",
    "def _tokenize(examples):\n",
    "    result = {}\n",
    "    for e in tokenizer_custom.encode_batch(examples['text']):\n",
    "        result.setdefault('ids', []).append(e.ids)\n",
    "        result.setdefault('tokens', []).append(e.tokens)\n",
    "        result.setdefault('offsets', []).append(e.offsets)\n",
    "        result.setdefault('special_tokens_mask', []).append(e.special_tokens_mask) # if id is special token or not\n",
    "        result.setdefault('text_lenght', []).append(np.sum(np.array(e.special_tokens_mask)==0)+2)\n",
    "    return result"
   ]
  },
  {
   "cell_type": "code",
   "execution_count": null,
   "metadata": {
    "id": "_0dxE2eMJ1Ay"
   },
   "outputs": [],
   "source": [
    "dataset_google = dataset_google.map(_tokenize, batched=True,batch_size=5000)"
   ]
  },
  {
   "cell_type": "markdown",
   "metadata": {
    "id": "ut45lt-eKeR9"
   },
   "source": [
    "## Ejemplo"
   ]
  },
  {
   "cell_type": "code",
   "execution_count": 86,
   "metadata": {
    "colab": {
     "base_uri": "https://localhost:8080/"
    },
    "executionInfo": {
     "elapsed": 548,
     "status": "ok",
     "timestamp": 1637897293195,
     "user": {
      "displayName": "Nicolas Aguirre",
      "photoUrl": "https://lh3.googleusercontent.com/a-/AOh14GjQfPiLxWme8kkxP92950-9jF1QGUs_5FsIVer1Jg=s64",
      "userId": "17499392061323227857"
     },
     "user_tz": 180
    },
    "id": "sqP1kpSiJ0-M",
    "outputId": "6c2a6330-2de5-47da-95a1-a959f9e3caaa"
   },
   "outputs": [
    {
     "name": "stdout",
     "output_type": "stream",
     "text": [
      "Negative \r\n",
      "\n",
      "The works warning. If AA delayed. I taken trip AA atleast 2 lengthy delays trip. They pretty terrible getting want go say will. \r\n",
      "\n",
      "['[SOS]', 'The', 'works', 'warning', '.', 'If', 'AA', 'delayed', '.', 'I', 'taken', 'trip', 'AA', 'atleast', '2', 'lengthy', 'delays', 'trip', '.', 'They', 'pretty', 'terrible', 'getting', 'want', 'go', 'say', 'will', '.', '[EOS]', '[PAD]', '[PAD]', '[PAD]', '[PAD]', '[PAD]', '[PAD]', '[PAD]', '[PAD]', '[PAD]', '[PAD]', '[PAD]', '[PAD]', '[PAD]', '[PAD]', '[PAD]', '[PAD]', '[PAD]', '[PAD]', '[PAD]', '[PAD]', '[PAD]', '[PAD]', '[PAD]', '[PAD]', '[PAD]', '[PAD]', '[PAD]', '[PAD]', '[PAD]', '[PAD]', '[PAD]', '[PAD]', '[PAD]', '[PAD]', '[PAD]', '[PAD]', '[PAD]', '[PAD]', '[PAD]', '[PAD]', '[PAD]', '[PAD]', '[PAD]', '[PAD]', '[PAD]', '[PAD]', '[PAD]', '[PAD]', '[PAD]', '[PAD]', '[PAD]', '[PAD]', '[PAD]', '[PAD]', '[PAD]', '[PAD]', '[PAD]', '[PAD]', '[PAD]', '[PAD]', '[PAD]', '[PAD]', '[PAD]', '[PAD]', '[PAD]', '[PAD]', '[PAD]', '[PAD]', '[PAD]', '[PAD]', '[PAD]', '[PAD]', '[PAD]', '[PAD]', '[PAD]', '[PAD]', '[PAD]', '[PAD]', '[PAD]', '[PAD]', '[PAD]', '[PAD]', '[PAD]', '[PAD]', '[PAD]', '[PAD]', '[PAD]', '[PAD]', '[PAD]', '[PAD]', '[PAD]'] \r\n",
      "\n",
      "[2, 14, 114, 2554, 4, 85, 4416, 3096, 4, 5, 933, 1391, 4416, 3922, 74, 8526, 3861, 1391, 4, 172, 247, 642, 132, 42, 68, 185, 1017, 4, 3, 1, 1, 1, 1, 1, 1, 1, 1, 1, 1, 1, 1, 1, 1, 1, 1, 1, 1, 1, 1, 1, 1, 1, 1, 1, 1, 1, 1, 1, 1, 1, 1, 1, 1, 1, 1, 1, 1, 1, 1, 1, 1, 1, 1, 1, 1, 1, 1, 1, 1, 1, 1, 1, 1, 1, 1, 1, 1, 1, 1, 1, 1, 1, 1, 1, 1, 1, 1, 1, 1, 1, 1, 1, 1, 1, 1, 1, 1, 1, 1, 1, 1, 1, 1, 1, 1, 1, 1, 1, 1, 1] \r\n",
      "\n",
      "[1, 0, 0, 0, 0, 0, 0, 0, 0, 0, 0, 0, 0, 0, 0, 0, 0, 0, 0, 0, 0, 0, 0, 0, 0, 0, 0, 0, 1, 1, 1, 1, 1, 1, 1, 1, 1, 1, 1, 1, 1, 1, 1, 1, 1, 1, 1, 1, 1, 1, 1, 1, 1, 1, 1, 1, 1, 1, 1, 1, 1, 1, 1, 1, 1, 1, 1, 1, 1, 1, 1, 1, 1, 1, 1, 1, 1, 1, 1, 1, 1, 1, 1, 1, 1, 1, 1, 1, 1, 1, 1, 1, 1, 1, 1, 1, 1, 1, 1, 1, 1, 1, 1, 1, 1, 1, 1, 1, 1, 1, 1, 1, 1, 1, 1, 1, 1, 1, 1, 1] \r\n",
      "\n",
      "0 \r\n",
      "\n",
      "29 \r\n",
      "\n"
     ]
    },
    {
     "data": {
      "text/plain": [
       "29"
      ]
     },
     "execution_count": 86,
     "metadata": {},
     "output_type": "execute_result"
    }
   ],
   "source": [
    "idx_rnd = np.random.randint(0,len(dataset_google['train']))\n",
    "idx_rnd = dataset_google['train'][idx_rnd]\n",
    "print(name_classes[idx_rnd['label']],'\\r\\n')\n",
    "print(idx_rnd['text'],'\\r\\n')\n",
    "print(idx_rnd['tokens'],'\\r\\n')\n",
    "print(idx_rnd['ids'],'\\r\\n')\n",
    "print(idx_rnd['special_tokens_mask'],'\\r\\n')\n",
    "print(idx_rnd['label'],'\\r\\n')\n",
    "print(idx_rnd['text_lenght'],'\\r\\n')\n",
    "np.sum(np.array(idx_rnd['special_tokens_mask'])==0)+2"
   ]
  },
  {
   "cell_type": "markdown",
   "metadata": {
    "id": "E4_dGt5BKhaa"
   },
   "source": [
    "## Guardamos el tokenizador"
   ]
  },
  {
   "cell_type": "code",
   "execution_count": 27,
   "metadata": {
    "executionInfo": {
     "elapsed": 769,
     "status": "ok",
     "timestamp": 1637891230378,
     "user": {
      "displayName": "Nicolas Aguirre",
      "photoUrl": "https://lh3.googleusercontent.com/a-/AOh14GjQfPiLxWme8kkxP92950-9jF1QGUs_5FsIVer1Jg=s64",
      "userId": "17499392061323227857"
     },
     "user_tz": 180
    },
    "id": "hGvag66UJ07m"
   },
   "outputs": [],
   "source": [
    "tokenizer_custom.save(root_path+\"google_tokenizer.json\",pretty=True)"
   ]
  },
  {
   "cell_type": "markdown",
   "metadata": {
    "id": "qvAuA-1e02-R"
   },
   "source": [
    "### Import"
   ]
  },
  {
   "cell_type": "code",
   "execution_count": 28,
   "metadata": {
    "colab": {
     "base_uri": "https://localhost:8080/",
     "height": 35
    },
    "executionInfo": {
     "elapsed": 16,
     "status": "ok",
     "timestamp": 1637891230378,
     "user": {
      "displayName": "Nicolas Aguirre",
      "photoUrl": "https://lh3.googleusercontent.com/a-/AOh14GjQfPiLxWme8kkxP92950-9jF1QGUs_5FsIVer1Jg=s64",
      "userId": "17499392061323227857"
     },
     "user_tz": 180
    },
    "id": "gsZPPwUSBdNm",
    "outputId": "b255598e-edb2-45aa-ad7b-8d937e90ed0d"
   },
   "outputs": [
    {
     "data": {
      "application/vnd.google.colaboratory.intrinsic+json": {
       "type": "string"
      },
      "text/plain": [
       "'tokenizer_custom = Tokenizer.from_file(root_path+\"google_tokenizer.json\")'"
      ]
     },
     "execution_count": 28,
     "metadata": {},
     "output_type": "execute_result"
    }
   ],
   "source": [
    "\"\"\"tokenizer_custom = Tokenizer.from_file(root_path+\"google_tokenizer.json\")\"\"\""
   ]
  },
  {
   "cell_type": "markdown",
   "metadata": {
    "id": "-cIirakokvWT"
   },
   "source": [
    "Hasta aqui terminamos con la Tokenization ...\n",
    "\n",
    "En el siguiente link podran encontrar los distintos algoritmos de tokenization y la forma de aplicarlos para otros casos de NLP.\n",
    "\n",
    "[Documentacion HuggingFace](https://huggingface.co/docs/tokenizers/python/latest/pipeline.html)"
   ]
  },
  {
   "cell_type": "markdown",
   "metadata": {
    "id": "hhu1wUwt1Ev4"
   },
   "source": [
    "# Formato a PyTorch"
   ]
  },
  {
   "cell_type": "markdown",
   "metadata": {
    "id": "YevioYjnawCH"
   },
   "source": [
    "A cada uno de los subset los pasamos a formato pytorch, y le indicamos que columnas queremos (opcional indicarle tambien el dispositivo, en este caso, cuda=GPU)"
   ]
  },
  {
   "cell_type": "code",
   "execution_count": 30,
   "metadata": {
    "executionInfo": {
     "elapsed": 15,
     "status": "ok",
     "timestamp": 1637891230379,
     "user": {
      "displayName": "Nicolas Aguirre",
      "photoUrl": "https://lh3.googleusercontent.com/a-/AOh14GjQfPiLxWme8kkxP92950-9jF1QGUs_5FsIVer1Jg=s64",
      "userId": "17499392061323227857"
     },
     "user_tz": 180
    },
    "id": "DZlVaK_7CumD"
   },
   "outputs": [],
   "source": [
    "train_ds = dataset_google['train']\n",
    "val_ds = dataset_google['val']\n",
    "test_ds = dataset_google['test']\n",
    "\n",
    "train_ds.set_format('torch', columns=['ids', 'label', 'text_lenght'], device='cuda')\n",
    "val_ds.set_format('torch', columns=['ids', 'label', 'text_lenght'], device='cuda')\n",
    "test_ds.set_format('torch', columns=['ids', 'label','text_lenght'], device='cuda')"
   ]
  },
  {
   "cell_type": "markdown",
   "metadata": {
    "id": "sW1p7zmN1HPy"
   },
   "source": [
    "# Dataloader"
   ]
  },
  {
   "cell_type": "code",
   "execution_count": 31,
   "metadata": {
    "executionInfo": {
     "elapsed": 14,
     "status": "ok",
     "timestamp": 1637891230379,
     "user": {
      "displayName": "Nicolas Aguirre",
      "photoUrl": "https://lh3.googleusercontent.com/a-/AOh14GjQfPiLxWme8kkxP92950-9jF1QGUs_5FsIVer1Jg=s64",
      "userId": "17499392061323227857"
     },
     "user_tz": 180
    },
    "id": "DwTGehqpCujj"
   },
   "outputs": [],
   "source": [
    "# Definimos el batch size\n",
    "bs = 64\n",
    "# Definimos los dataloaders\n",
    "train_dl = torch.utils.data.DataLoader(train_ds, batch_size = bs, shuffle = True)\n",
    "val_dl = torch.utils.data.DataLoader(val_ds, batch_size = bs*2, shuffle = True)\n",
    "test_dl = torch.utils.data.DataLoader(test_ds, batch_size = bs*2, shuffle = True)"
   ]
  },
  {
   "cell_type": "code",
   "execution_count": 32,
   "metadata": {
    "colab": {
     "base_uri": "https://localhost:8080/"
    },
    "executionInfo": {
     "elapsed": 8789,
     "status": "ok",
     "timestamp": 1637891239154,
     "user": {
      "displayName": "Nicolas Aguirre",
      "photoUrl": "https://lh3.googleusercontent.com/a-/AOh14GjQfPiLxWme8kkxP92950-9jF1QGUs_5FsIVer1Jg=s64",
      "userId": "17499392061323227857"
     },
     "user_tz": 180
    },
    "id": "6NTQHdG8eo5R",
    "outputId": "75146afc-8fa9-406a-cd05-5661684c89b3"
   },
   "outputs": [
    {
     "data": {
      "text/plain": [
       "{'ids': tensor([[   2,    5,   71,  ...,    1,    1,    1],\n",
       "         [   2,    5,  191,  ...,    1,    1,    1],\n",
       "         [   2,   47,  111,  ...,    1,    1,    1],\n",
       "         ...,\n",
       "         [   2,    0, 8925,  ...,    1,    1,    1],\n",
       "         [   2,   82,    3,  ...,    1,    1,    1],\n",
       "         [   2,  220,   29,  ...,    1,    1,    1]], device='cuda:0'),\n",
       " 'label': tensor([0, 2, 2, 2, 0, 1, 2, 2, 2, 2, 2, 1, 2, 2, 2, 2, 2, 1, 2, 0, 2, 2, 0, 2,\n",
       "         2, 1, 0, 2, 1, 2, 2, 2, 2, 2, 0, 2, 2, 2, 2, 2, 2, 2, 0, 1, 2, 1, 2, 0,\n",
       "         2, 2, 2, 2, 2, 2, 1, 2, 2, 2, 2, 1, 2, 2, 2, 0, 2, 2, 2, 0, 1, 1, 2, 0,\n",
       "         2, 2, 0, 2, 0, 0, 2, 2, 0, 2, 2, 2, 0, 2, 1, 2, 2, 1, 1, 2, 2, 2, 1, 0,\n",
       "         1, 0, 2, 2, 2, 0, 1, 0, 2, 1, 2, 2, 0, 2, 2, 2, 0, 2, 1, 2, 2, 2, 2, 0,\n",
       "         2, 2, 0, 2, 2, 2, 2, 2], device='cuda:0'),\n",
       " 'text_lenght': tensor([ 34,  45,  34,   3,  25,  19,  32,   9,  11,  17,  26,  29,  35,  22,\n",
       "          27,  12,  20,   6,  25,  14,  11,   3,  18,   6,   5,  28,  13,  32,\n",
       "          13,  15,   4,  20,  10,  18,  17,   5,  34,   6,  46,  68,  16,  21,\n",
       "          54,  22,  49,  32,  18,  35,  28,   6,  23,  34,   4,  31,   9,  24,\n",
       "          18,   9,   3,  17,   6,  26,  35,  25,  10,  48,  23,  64,  13,   3,\n",
       "          14,  14,  38,  23,  35,  23,   4,  17,  24,  25,  23,  10,  23,  13,\n",
       "          32,  41,   6,  54,  21,   3,   4,   3,  13,  60,   3,  24,  45,  63,\n",
       "           4,   4,  34,   5,  20,  30,   9,   9,   9,   8,  44,  10, 102,  22,\n",
       "          34,  36,   6,  43,  28,   5,   7,  33,   7,  16,   7,  15,  17,  47,\n",
       "           3,  64], device='cuda:0')}"
      ]
     },
     "execution_count": 32,
     "metadata": {},
     "output_type": "execute_result"
    }
   ],
   "source": [
    "# Los dataloaderes pueden ser iterados, asi que le pedimos un elemento con 'next'\n",
    "# simplemente para ver un ejemplo.\n",
    "next(iter(test_dl))"
   ]
  },
  {
   "cell_type": "markdown",
   "metadata": {
    "id": "0IuQJzQV1rDs"
   },
   "source": [
    "# 3) Modelo"
   ]
  },
  {
   "cell_type": "markdown",
   "metadata": {
    "id": "6gR5v6KubPjf"
   },
   "source": [
    "![](https://guide.allennlp.org/part1/your-first-model/designing-a-model-4.svg)"
   ]
  },
  {
   "cell_type": "markdown",
   "metadata": {
    "id": "QFuIqAv71KTY"
   },
   "source": [
    "## Arquitectura"
   ]
  },
  {
   "cell_type": "markdown",
   "metadata": {
    "id": "z9SHZJQO1mhz"
   },
   "source": [
    "### Configuracion\n",
    "\n",
    "Vamos a definir un conjunto de variables auxiliares que, como veremos en las siguientes celdas, vamos a necesitar para definir la arquitectura de nuestro modelo.\n",
    "\n",
    "Lo que buscamos hacer es tener un codigo donde:\n",
    "\n",
    "```\n",
    "# modelo = Arquitectura (variables_de_configuracion)\n",
    "```"
   ]
  },
  {
   "cell_type": "code",
   "execution_count": 34,
   "metadata": {
    "colab": {
     "base_uri": "https://localhost:8080/"
    },
    "executionInfo": {
     "elapsed": 18,
     "status": "ok",
     "timestamp": 1637891239155,
     "user": {
      "displayName": "Nicolas Aguirre",
      "photoUrl": "https://lh3.googleusercontent.com/a-/AOh14GjQfPiLxWme8kkxP92950-9jF1QGUs_5FsIVer1Jg=s64",
      "userId": "17499392061323227857"
     },
     "user_tz": 180
    },
    "id": "GjFrup7JR2rd",
    "outputId": "7cfb4fe6-2fc8-4060-cf79-1ecd0eb6b632"
   },
   "outputs": [
    {
     "data": {
      "text/plain": [
       "{'bidirectional': True,\n",
       " 'dropout': 0.25,\n",
       " 'embedding_dim': 150,\n",
       " 'n_classes': 3,\n",
       " 'num_layers': 2,\n",
       " 'pad_id': 1,\n",
       " 'rnn1_dim': [150, 256],\n",
       " 'vocab_size': 12042}"
      ]
     },
     "execution_count": 34,
     "metadata": {},
     "output_type": "execute_result"
    }
   ],
   "source": [
    "# Vocab Size ---> Para el Embedding\n",
    "vocab_size = tokenizer_custom.get_vocab_size()\n",
    "# El indice del embedding que corresponde al padding\n",
    "pad_id = tokenizer_custom.token_to_id(\"[PAD]\")\n",
    "# Diumensiones del embedding\n",
    "emb_dim = 150\n",
    "# Si queremos que nuestra capa RNN/GRU sea bidireccional\n",
    "bidirectional = True\n",
    "# Dimensiones de Entrada y Saluda de nuestra capa recurrente\n",
    "rnn_dim = [emb_dim, 256]\n",
    "# Numero de capas RNN\n",
    "num_layers = 2\n",
    "# Numero de clases --> Para la capa de salida\n",
    "n_classes = len(name_classes)\n",
    "# % de Droput para regularizar\n",
    "dropout = 0.25\n",
    "\n",
    "# Por comodidad le vamos a pasar todos estos\n",
    "# parametros de config en un diccionario\n",
    "args = {\n",
    "    'vocab_size' : vocab_size,\n",
    "    'pad_id' : pad_id,\n",
    "    'embedding_dim' : emb_dim,\n",
    "    'n_classes' : n_classes,\n",
    "    'rnn1_dim' : rnn_dim,\n",
    "    'bidirectional' : bidirectional,\n",
    "    'num_layers': num_layers,\n",
    "    'dropout': dropout\n",
    "}\n",
    "args"
   ]
  },
  {
   "cell_type": "markdown",
   "metadata": {
    "id": "L8Is0u8WO67x"
   },
   "source": [
    "### Definicion"
   ]
  },
  {
   "cell_type": "code",
   "execution_count": 33,
   "metadata": {
    "executionInfo": {
     "elapsed": 20,
     "status": "ok",
     "timestamp": 1637891239155,
     "user": {
      "displayName": "Nicolas Aguirre",
      "photoUrl": "https://lh3.googleusercontent.com/a-/AOh14GjQfPiLxWme8kkxP92950-9jF1QGUs_5FsIVer1Jg=s64",
      "userId": "17499392061323227857"
     },
     "user_tz": 180
    },
    "id": "7lj3Ytx1Cug9"
   },
   "outputs": [],
   "source": [
    "class SentimentAnalisys(nn.Module):\n",
    "  def __init__(self,args):\n",
    "    super(SentimentAnalisys, self).__init__()\n",
    "    \"\"\"\n",
    "     Se llama la funcion __init__ al momento que creemos el objeto y respondemos\n",
    "     a la pregunta:\n",
    "\n",
    "     'Que partes componen al modelo?'.\n",
    "     Es decir, inicializamos todos sus parametros a aprender.\n",
    "     Tambien podemos definir cualquier otro tipo de variable auxiliar dentro del modelo.\n",
    "\n",
    "\n",
    "     Por otro lado, en la funcion 'forward' vamos a responder a la pregunta:\n",
    "\n",
    "     'Como es el forward pass?. \n",
    "     Es decir, indicamos que camino va a recorrer la informacion por las\n",
    "     partes del modelo que previamente inicializamos.\n",
    "\n",
    "     #Datazo:\n",
    "     Estrictamente hablando, tanto las partes del modelo de NN como las \n",
    "     variables auxiliares se llaman \"atributos\", y las definimos usando el \n",
    "     prefijo \"self.nombre_de_variable\", mientras que las funciones que definimos\n",
    "     llaman \"metodos\".  \n",
    "    \"\"\"\n",
    "\n",
    "    ###########################\n",
    "    # Var. Auxiliares: Inicio\n",
    "    ###########################\n",
    "    # Guardamos variables propias del modelo para usar luego.\n",
    "    self.vocab_size = args['vocab_size']\n",
    "    # el token ID del padding\n",
    "    self.pad_id = args['pad_id']\n",
    "    # El tamaño del embedding\n",
    "    self.embedding_dim = args['embedding_dim']\n",
    "    # La cantidad de labels\n",
    "    self.n_classes = args['n_classes']\n",
    "    # la cantidad de hidden dimension de la RNN\n",
    "    self.rnn1_dim = args['rnn1_dim']\n",
    "    # Si vamos a usar bidericcionalidad\n",
    "    self.bidirectional = args['bidirectional']\n",
    "    # Cantidad de capas RNN\n",
    "    self.num_layers = args['num_layers']\n",
    "    # Si es bidirectional, entonces entrada a la capa fully conected (nn.Linear)\n",
    "    # es el doble de grande\n",
    "    self.num_directions = 2 if self.bidirectional  == True else 1\n",
    "    ###########################\n",
    "    # Variables Auxiliares: Fin\n",
    "    ###########################    \n",
    "\n",
    "    ###########################\n",
    "    # Partes del modelo: Inicio\n",
    "    ###########################\n",
    "    # 1) Definamos el embedding\n",
    "    self.embedding = nn.Embedding(num_embeddings = self.vocab_size,\n",
    "                                  embedding_dim = self.embedding_dim ,\n",
    "                                  padding_idx = self.pad_id )\n",
    "    # 2) Definimos una RNN (GRU)\n",
    "    self.rnn1 = nn.GRU(input_size = self.rnn1_dim[0],\n",
    "                       hidden_size = self.rnn1_dim[1],\n",
    "                       num_layers = self.num_layers,\n",
    "                       bidirectional = self.bidirectional,\n",
    "                       batch_first = True )\n",
    "    # 3)\n",
    "    # Si el modelo tiene dos direcciones, el temaño de la ultima layer se duplica!\n",
    "    self.linear_dim = [self.rnn1_dim[1]*self.num_directions,self.n_classes]\n",
    "    # Definimos una capa fully-conected de salida    \n",
    "    self.linear = nn.Linear(in_features = self.linear_dim[0],\n",
    "                            out_features = self.linear_dim[1])\n",
    "    # Definimos una capa de droput para regularizar\n",
    "    self.do = nn.Dropout(args['dropout'])\n",
    "\n",
    "    ###########################\n",
    "    # Partes del modelo: Fin\n",
    "    ###########################    \n",
    "\n",
    "  def forward(self,x,text_lengths):\n",
    "    \n",
    "    # 1) Capa Embedding\n",
    "    output = self.embedding(x)\n",
    "    \n",
    "    # Pack_Packed:\n",
    "    # Esta capa la hacemos simplemente para cortar el forward/backward pass\n",
    "    # en los indices cuyo id == 'PAD'.\n",
    "    # Doc:\n",
    "    # https://pytorch.org/docs/stable/generated/torch.nn.utils.rnn.pack_padded_sequence.html\n",
    "    packed_embedded = nn.utils.rnn.pack_padded_sequence(\n",
    "        output, text_lengths.to('cpu'),\n",
    "        batch_first=True, enforce_sorted=False)\n",
    "\n",
    "    # 2) Capa Recurrente\n",
    "    packed_output, h_n = self.rnn1(packed_embedded) \n",
    "    # Doc:\n",
    "    # https://pytorch.org/docs/stable/generated/torch.nn.utils.rnn.pad_packed_sequence.html\n",
    "    output, output_lengths = nn.utils.rnn.pad_packed_sequence(packed_output)\n",
    "    \n",
    "    #################\n",
    "    ## Bidirectional: \n",
    "    #################\n",
    "    # Doc: https://pytorch.org/docs/stable/generated/torch.nn.GRU.html\n",
    "    # h_n = [num layers * num directions, batch size, hid dim]\n",
    "    # concatenamos el hidden_state final:\n",
    "    # * forward RNN: h_n[-2,:,:] \n",
    "    # * backward RNN: h_n[-1,:,:]\n",
    "    if self.bidirectional:\n",
    "      h_n = torch.cat((h_n[-2,:,:], h_n[-1,:,:]), dim = 1)    \n",
    "    \n",
    "    # 3) Aplicamos dropout y la capa fully-conected.\n",
    "    output = self.linear(self.do(h_n))\n",
    "    return output"
   ]
  },
  {
   "cell_type": "markdown",
   "metadata": {
    "id": "Gs1EiBw3OxB5"
   },
   "source": [
    "### Creacion"
   ]
  },
  {
   "cell_type": "code",
   "execution_count": 35,
   "metadata": {
    "executionInfo": {
     "elapsed": 14,
     "status": "ok",
     "timestamp": 1637891239156,
     "user": {
      "displayName": "Nicolas Aguirre",
      "photoUrl": "https://lh3.googleusercontent.com/a-/AOh14GjQfPiLxWme8kkxP92950-9jF1QGUs_5FsIVer1Jg=s64",
      "userId": "17499392061323227857"
     },
     "user_tz": 180
    },
    "id": "MSiRWxDnCued"
   },
   "outputs": [],
   "source": [
    "# Definamos el modelo, y pasemoslo a la GPU ('cuda')\n",
    "modelo = SentimentAnalisys(args).to('cuda')"
   ]
  },
  {
   "cell_type": "markdown",
   "metadata": {
    "id": "e_LSdPXY1wfL"
   },
   "source": [
    "## Optimizador y Loss Function"
   ]
  },
  {
   "cell_type": "code",
   "execution_count": 36,
   "metadata": {
    "executionInfo": {
     "elapsed": 13,
     "status": "ok",
     "timestamp": 1637891239156,
     "user": {
      "displayName": "Nicolas Aguirre",
      "photoUrl": "https://lh3.googleusercontent.com/a-/AOh14GjQfPiLxWme8kkxP92950-9jF1QGUs_5FsIVer1Jg=s64",
      "userId": "17499392061323227857"
     },
     "user_tz": 180
    },
    "id": "zo3B1slcdVQP"
   },
   "outputs": [],
   "source": [
    "#################\n",
    "# Optimizador\n",
    "#################\n",
    "# Learning rate\n",
    "learning_rate = 0.001\n",
    "optimizer = Adam(modelo.parameters(),\n",
    "                 lr = learning_rate,\n",
    "                 weight_decay = 0.005) # Regularizacion\n",
    "\n",
    "\n",
    "#################\n",
    "# Loss Function\n",
    "#################\n",
    "# Debido a que nuestro dataset se encuentra desbalanceado,\n",
    "# vamos a pasar un tensor indicadole como ponderaremos la loss function.\n",
    "# 0.9: Negative , 1: Neutral, 0.3: Positive\n",
    "class_weights = torch.FloatTensor([0.9,1,0.3]).to(device)\n",
    "# Definimos la loss function y le pasamos los pesos!\n",
    "loss_function = nn.CrossEntropyLoss(weight=class_weights)"
   ]
  },
  {
   "cell_type": "code",
   "execution_count": 37,
   "metadata": {
    "executionInfo": {
     "elapsed": 824,
     "status": "ok",
     "timestamp": 1637891579521,
     "user": {
      "displayName": "Nicolas Aguirre",
      "photoUrl": "https://lh3.googleusercontent.com/a-/AOh14GjQfPiLxWme8kkxP92950-9jF1QGUs_5FsIVer1Jg=s64",
      "userId": "17499392061323227857"
     },
     "user_tz": 180
    },
    "id": "ZPjCW2b3jdPK"
   },
   "outputs": [],
   "source": [
    "# Vamos a generarnos un diccionario donde iremos guardando los resultados\n",
    "# del entrenamiento\n",
    "history = {'train':{'loss':[],'acc': []},\n",
    "           'val':{'loss': [],'acc': []}}"
   ]
  },
  {
   "cell_type": "markdown",
   "metadata": {
    "id": "H0QGO5FN10xi"
   },
   "source": [
    "# Training"
   ]
  },
  {
   "cell_type": "markdown",
   "metadata": {
    "id": "fgOtDvORbk7v"
   },
   "source": [
    "![](https://drive.google.com/uc?id=1d7Rq5FsmQNWcP8T1KGi_TodL49jCEKnY)\n",
    "\n",
    "![](https://guide.allennlp.org/part1/your-first-model/designing-a-model-5.svg)"
   ]
  },
  {
   "cell_type": "code",
   "execution_count": 38,
   "metadata": {
    "executionInfo": {
     "elapsed": 4,
     "status": "ok",
     "timestamp": 1637891634309,
     "user": {
      "displayName": "Nicolas Aguirre",
      "photoUrl": "https://lh3.googleusercontent.com/a-/AOh14GjQfPiLxWme8kkxP92950-9jF1QGUs_5FsIVer1Jg=s64",
      "userId": "17499392061323227857"
     },
     "user_tz": 180
    },
    "id": "DohIzJVV0WZ6"
   },
   "outputs": [],
   "source": [
    "# Definimos la cantidad de epochs a entrenar\n",
    "epochs = 50\n",
    "# Cantidad de muestras que hay en cada dataset,\n",
    "# Esto lo necesitamos para que la comparacion de la loss de entrenamiento y validacion\n",
    "# sea valida\n",
    "normalizer_train = len(train_dl.dataset)\n",
    "normalizer_val = len(val_dl.dataset)\n",
    "normalizer_test = len(test_dl.dataset)"
   ]
  },
  {
   "cell_type": "code",
   "execution_count": null,
   "metadata": {
    "id": "fNXL1CdXdVKQ"
   },
   "outputs": [],
   "source": [
    "# Vamos a crear 4 variables para ir haciendo seguimiento de la loss\n",
    "# y del accuracy duante cada epoc\n",
    "epoch_loss_train = 0\n",
    "epoch_loss_val = 0\n",
    "accuracy_train = 0 \n",
    "accuracy_val = 0\n",
    "\n",
    "pbar1 = tqdm(range(epochs),unit=\" epoch\")\n",
    "for epoch in pbar1:\n",
    "  # Aqui creamos la barra y configuramos que mensajes queremos que aparezcan\n",
    "  # durante el entrenamiento\n",
    "  pbar1.set_postfix({\n",
    "      'Loss_t': epoch_loss_train,\n",
    "      'Acc_t': accuracy_train,\n",
    "      'Loss_v':epoch_loss_val,\n",
    "      'Acc_v': accuracy_val})\n",
    "  \n",
    "  # Reseteamos las variables debido al for loop\n",
    "  epoch_loss_train , epoch_loss_val = 0, 0\n",
    "  accuracy_train , accuracy_val = 0, 0 \n",
    "  ###############################  \n",
    "  # TRAINING   \n",
    "  ###############################\n",
    "  with tqdm(total=len(train_dl)+len(val_dl), unit=\" batch\",leave=False) as pbar2:\n",
    "    # Cantidad de labels acertados  \n",
    "    correct = 0\n",
    "    # Pasamos el modelo a modo 'train' (activa los dropout/batchnorm)\n",
    "    modelo.train()\n",
    "    # Para cada batch del dataloader\n",
    "    for batch in train_dl:\n",
    "      # Actualizamos el contador de batches de la barra de progreso\n",
    "      pbar2.update(1)\n",
    "      # x: nuestros ids\n",
    "      x = batch['ids']\n",
    "      x_l = batch['text_lenght']\n",
    "      # y_true: el label correcto\n",
    "      y_true = batch['label']\n",
    "      # Limpiamos los gradientes que observa el optimizador\n",
    "      # si no lo hacemos, se van a ir acumulando y es incorrecto\n",
    "      optimizer.zero_grad()\n",
    "      # Generamos una prediccion\n",
    "      y_hat = modelo(x,x_l)\n",
    "      # Calculamos la loss w.r.t el true value\n",
    "      loss = loss_function(y_hat,y_true)\n",
    "      # Calculamos los gradientes del modelo w.r.t la loss\n",
    "      loss.backward()\n",
    "      # Aplicamos los gradientes\n",
    "      optimizer.step()\n",
    "      # Obtenemos el label predicho\n",
    "      _, predicted = torch.max(y_hat.data, 1)\n",
    "      # Acumulamos la loss\n",
    "      epoch_loss_train += loss.item()\n",
    "      # Cantidad de labels correctamente predichos\n",
    "      correct_i = (predicted == y_true).sum().item() \n",
    "      correct += correct_i\n",
    "      pbar2.set_postfix({\n",
    "              'Loss_t:': loss.item() / x.size()[0],\n",
    "              'Acc_t': correct_i / (x.size()[0])})      \n",
    "\n",
    "    # una vez que termina una epoch de training, normalizamos loss y acc\n",
    "    # por la cantidad de samples que habia en el set de entrenamiento\n",
    "    epoch_loss_train = epoch_loss_train / normalizer_train\n",
    "    accuracy_train = 100 * correct / normalizer_train\n",
    "\n",
    "    ###############################  \n",
    "    # Validation   \n",
    "    ###############################\n",
    "    # Desactivamos los dropout/batch_norm\n",
    "    modelo.eval()\n",
    "    # volvemos a inicializar el contador para el accuracy\n",
    "    correct = 0\n",
    "    # Como ahora estamos testeando, no necesitamos computar gradiente\n",
    "    # (desactiva funciones y operaciones sobre el grafo computacional)\n",
    "    with torch.inference_mode():\n",
    "      for batch in val_dl:\n",
    "        pbar2.update(1)\n",
    "        x = batch['ids']\n",
    "        x_l = batch['text_lenght']\n",
    "        y_true = batch['label']\n",
    "        y_hat = modelo(x,x_l)\n",
    "        val_loss = loss_function(y_hat,y_true)\n",
    "        _, predicted = torch.max(y_hat.data, 1)\n",
    "        correct += (predicted == y_true).sum().item()\n",
    "        epoch_loss_val += val_loss.item()\n",
    "\n",
    "    #Estimamos la loss y el acc w.r.t el set de testeo\n",
    "    epoch_loss_val = epoch_loss_val / normalizer_val\n",
    "    accuracy_val = 100 * correct / normalizer_val\n",
    "\n",
    "    # Actualizamos nuestro historial\n",
    "    history['train']['loss'].append(epoch_loss_train)\n",
    "    history['val']['loss'].append( epoch_loss_val)\n",
    "    history['train']['acc'].append(accuracy_train)\n",
    "    history['val']['acc'].append(accuracy_val)  "
   ]
  },
  {
   "cell_type": "code",
   "execution_count": 45,
   "metadata": {
    "colab": {
     "base_uri": "https://localhost:8080/",
     "height": 395
    },
    "executionInfo": {
     "elapsed": 1535,
     "status": "ok",
     "timestamp": 1637895730504,
     "user": {
      "displayName": "Nicolas Aguirre",
      "photoUrl": "https://lh3.googleusercontent.com/a-/AOh14GjQfPiLxWme8kkxP92950-9jF1QGUs_5FsIVer1Jg=s64",
      "userId": "17499392061323227857"
     },
     "user_tz": 180
    },
    "id": "EhUWlm4zAMJr",
    "outputId": "6f4f2e06-bebf-4666-8c56-992c8ec88aca"
   },
   "outputs": [
    {
     "data": {
      "image/png": "[encoded data removed]",
      "text/plain": [
       "<Figure size 1152x432 with 2 Axes>"
      ]
     },
     "metadata": {
      "needs_background": "light"
     },
     "output_type": "display_data"
    }
   ],
   "source": [
    "#Loss\n",
    "train_loss_h = history['train']['loss']\n",
    "val_loss_h = history['val']['loss']\n",
    "# Acc\n",
    "train_acc_h = history['train']['acc']\n",
    "val_acc_h = history['val']['acc']\n",
    "lepochs = range(1, len(train_loss_h) + 1)\n",
    "# Plot\n",
    "fig, axs = plt.subplots(1,2,figsize=(16,6))\n",
    "axs[0].plot(lepochs, train_loss_h, 'b', label='Train loss')\n",
    "axs[0].plot(lepochs, val_loss_h, 'r', label='Val loss')\n",
    "axs[0].set_title('Training and validation Loss',fontsize=20)\n",
    "axs[0].legend(fontsize=16)\n",
    "axs[1].plot(lepochs, train_acc_h, 'b', label='Train Accuracy')\n",
    "axs[1].plot(lepochs, val_acc_h, 'r', label='Validation Accuracy')\n",
    "axs[1].set_title('Training and validation Accuracy',fontsize=20)\n",
    "axs[1].legend(fontsize=16)\n",
    "plt.show()"
   ]
  },
  {
   "cell_type": "markdown",
   "metadata": {
    "id": "V302Agc-NGOy"
   },
   "source": [
    "## Save and load"
   ]
  },
  {
   "cell_type": "code",
   "execution_count": null,
   "metadata": {
    "id": "aq8MqXnuK9ge"
   },
   "outputs": [],
   "source": [
    "#torch.save(modelo.state_dict(), root_path+'Sentyment_model.pt')\n",
    "modelo = SentimentAnalisys(args).to('cuda')\n",
    "modelo.load_state_dict(torch.load(root_path+'Sentyment_model.pt'))\n",
    "modelo.eval()"
   ]
  },
  {
   "cell_type": "markdown",
   "metadata": {
    "id": "DptvXYoKT7yF"
   },
   "source": [
    "## Ejemplos"
   ]
  },
  {
   "cell_type": "markdown",
   "metadata": {
    "id": "FcYULoLKUr_t"
   },
   "source": [
    "**Propongan por el chat ejemplos de criticas de aplicaciones en ingles y veamos los resultados.**"
   ]
  },
  {
   "cell_type": "code",
   "execution_count": 46,
   "metadata": {
    "colab": {
     "base_uri": "https://localhost:8080/",
     "height": 143
    },
    "executionInfo": {
     "elapsed": 1027,
     "status": "ok",
     "timestamp": 1637895735160,
     "user": {
      "displayName": "Nicolas Aguirre",
      "photoUrl": "https://lh3.googleusercontent.com/a-/AOh14GjQfPiLxWme8kkxP92950-9jF1QGUs_5FsIVer1Jg=s64",
      "userId": "17499392061323227857"
     },
     "user_tz": 180
    },
    "id": "grAOHoMJ3X-a",
    "outputId": "826b91ad-b8bc-4956-9adf-4b4dd92e1f8f"
   },
   "outputs": [
    {
     "data": {
      "text/html": [
       "<div>\n",
       "<style scoped>\n",
       "    .dataframe tbody tr th:only-of-type {\n",
       "        vertical-align: middle;\n",
       "    }\n",
       "\n",
       "    .dataframe tbody tr th {\n",
       "        vertical-align: top;\n",
       "    }\n",
       "\n",
       "    .dataframe thead th {\n",
       "        text-align: right;\n",
       "    }\n",
       "</style>\n",
       "<table border=\"1\" class=\"dataframe\">\n",
       "  <thead>\n",
       "    <tr style=\"text-align: right;\">\n",
       "      <th></th>\n",
       "      <th>Class</th>\n",
       "      <th>Probability</th>\n",
       "    </tr>\n",
       "  </thead>\n",
       "  <tbody>\n",
       "    <tr>\n",
       "      <th>0</th>\n",
       "      <td>Neutral</td>\n",
       "      <td>88.572685</td>\n",
       "    </tr>\n",
       "    <tr>\n",
       "      <th>1</th>\n",
       "      <td>Positive</td>\n",
       "      <td>5.794253</td>\n",
       "    </tr>\n",
       "    <tr>\n",
       "      <th>2</th>\n",
       "      <td>Negative</td>\n",
       "      <td>5.633056</td>\n",
       "    </tr>\n",
       "  </tbody>\n",
       "</table>\n",
       "</div>"
      ],
      "text/plain": [
       "      Class  Probability\n",
       "0   Neutral    88.572685\n",
       "1  Positive     5.794253\n",
       "2  Negative     5.633056"
      ]
     },
     "execution_count": 46,
     "metadata": {},
     "output_type": "execute_result"
    }
   ],
   "source": [
    "text_proposed = \"PROPUESTAS_DEL_CHAT\"\n",
    "input_test = tokenizer_custom.encode(text_proposed)\n",
    "input_lenght = [np.sum(np.array(input_test.special_tokens_mask)==0)+2]\n",
    "input_lenght = torch.LongTensor(input_lenght)\n",
    "input_test = torch.LongTensor(input_test.ids).to(device).unsqueeze(0)\n",
    "prediction = modelo(input_test,input_lenght).to('cpu')\n",
    "prediction_prob = softmax(prediction.detach().numpy())[0]\n",
    "prediction_id = np.flip(np.argsort(prediction_prob))\n",
    "pd.DataFrame({'Class': np.array(name_classes)[prediction_id],\n",
    "              'Probability' : prediction_prob[prediction_id]*100})"
   ]
  },
  {
   "cell_type": "markdown",
   "metadata": {
    "id": "ldOVyPCwU6Zl"
   },
   "source": [
    "**Veamos ejemplos aleatorios del dataset de testeo**"
   ]
  },
  {
   "cell_type": "code",
   "execution_count": 54,
   "metadata": {
    "colab": {
     "base_uri": "https://localhost:8080/"
    },
    "executionInfo": {
     "elapsed": 869,
     "status": "ok",
     "timestamp": 1637895961992,
     "user": {
      "displayName": "Nicolas Aguirre",
      "photoUrl": "https://lh3.googleusercontent.com/a-/AOh14GjQfPiLxWme8kkxP92950-9jF1QGUs_5FsIVer1Jg=s64",
      "userId": "17499392061323227857"
     },
     "user_tz": 180
    },
    "id": "fb6nrS1hRkH-",
    "outputId": "d53c2607-4b85-4d05-db59-995d5d96d264"
   },
   "outputs": [
    {
     "name": "stdout",
     "output_type": "stream",
     "text": [
      "I took CDL today passed knowledge , air , combination issues ! Only used study ! I highly recommend anyone ! Good job , creators !\n"
     ]
    }
   ],
   "source": [
    "rnd_idx = np.random.randint(len(test_ds))\n",
    "print(tokenizer_custom.decode(test_ds[rnd_idx]['ids'].to('cpu').numpy()))"
   ]
  },
  {
   "cell_type": "code",
   "execution_count": 55,
   "metadata": {
    "colab": {
     "base_uri": "https://localhost:8080/",
     "height": 162
    },
    "executionInfo": {
     "elapsed": 7,
     "status": "ok",
     "timestamp": 1637895962543,
     "user": {
      "displayName": "Nicolas Aguirre",
      "photoUrl": "https://lh3.googleusercontent.com/a-/AOh14GjQfPiLxWme8kkxP92950-9jF1QGUs_5FsIVer1Jg=s64",
      "userId": "17499392061323227857"
     },
     "user_tz": 180
    },
    "id": "Y5uAmzwNbk5F",
    "outputId": "3e5e1419-c6dd-463a-9eec-d64d864e92d2"
   },
   "outputs": [
    {
     "name": "stdout",
     "output_type": "stream",
     "text": [
      "Positive\n"
     ]
    },
    {
     "data": {
      "text/html": [
       "<div>\n",
       "<style scoped>\n",
       "    .dataframe tbody tr th:only-of-type {\n",
       "        vertical-align: middle;\n",
       "    }\n",
       "\n",
       "    .dataframe tbody tr th {\n",
       "        vertical-align: top;\n",
       "    }\n",
       "\n",
       "    .dataframe thead th {\n",
       "        text-align: right;\n",
       "    }\n",
       "</style>\n",
       "<table border=\"1\" class=\"dataframe\">\n",
       "  <thead>\n",
       "    <tr style=\"text-align: right;\">\n",
       "      <th></th>\n",
       "      <th>Class</th>\n",
       "      <th>Probability</th>\n",
       "    </tr>\n",
       "  </thead>\n",
       "  <tbody>\n",
       "    <tr>\n",
       "      <th>0</th>\n",
       "      <td>Positive</td>\n",
       "      <td>99.984787</td>\n",
       "    </tr>\n",
       "    <tr>\n",
       "      <th>1</th>\n",
       "      <td>Negative</td>\n",
       "      <td>0.009753</td>\n",
       "    </tr>\n",
       "    <tr>\n",
       "      <th>2</th>\n",
       "      <td>Neutral</td>\n",
       "      <td>0.005458</td>\n",
       "    </tr>\n",
       "  </tbody>\n",
       "</table>\n",
       "</div>"
      ],
      "text/plain": [
       "      Class  Probability\n",
       "0  Positive    99.984787\n",
       "1  Negative     0.009753\n",
       "2   Neutral     0.005458"
      ]
     },
     "execution_count": 55,
     "metadata": {},
     "output_type": "execute_result"
    }
   ],
   "source": [
    "print(name_classes[test_ds[rnd_idx]['label']])\n",
    "input_test = test_ds[rnd_idx]['ids'].unsqueeze(0)\n",
    "input_lenght = test_ds[rnd_idx]['text_lenght'].unsqueeze(0)\n",
    "prediction = modelo(input_test,input_lenght).to('cpu')\n",
    "prediction_prob = softmax(prediction.detach().numpy())[0]\n",
    "prediction_id = np.flip(np.argsort(prediction_prob))\n",
    "pd.DataFrame({'Class': np.array(name_classes)[prediction_id],\n",
    "              'Probability' : prediction_prob[prediction_id]*100})"
   ]
  },
  {
   "cell_type": "markdown",
   "metadata": {
    "id": "y9ybuaXeH3ES"
   },
   "source": [
    "# Evaluation\n",
    "\n",
    "Creamos una funcion para que evalua sobbre el test set."
   ]
  },
  {
   "cell_type": "code",
   "execution_count": 56,
   "metadata": {
    "executionInfo": {
     "elapsed": 1023,
     "status": "ok",
     "timestamp": 1637895973852,
     "user": {
      "displayName": "Nicolas Aguirre",
      "photoUrl": "https://lh3.googleusercontent.com/a-/AOh14GjQfPiLxWme8kkxP92950-9jF1QGUs_5FsIVer1Jg=s64",
      "userId": "17499392061323227857"
     },
     "user_tz": 180
    },
    "id": "YhJfuOLoVu54"
   },
   "outputs": [],
   "source": [
    "def evaluate(modelo,dataloader):\n",
    "    # Modelo en modo evaluation\n",
    "    # Desactiva el dropout\n",
    "    modelo.eval()\n",
    "    # Variables donde guardar resultados\n",
    "    test_loss_total = 0\n",
    "    y_pred, y_true = [], []\n",
    "    correct = 0\n",
    "    with torch.inference_mode():        \n",
    "      for batch in tqdm(dataloader):\n",
    "        x = batch['ids']\n",
    "        x_l = batch['text_lenght']\n",
    "        y = batch['label']\n",
    "        y_hat = modelo(x,x_l)\n",
    "        loss = loss_function(y_hat,y)\n",
    "        test_loss_total += loss.item()\n",
    "        _, predicted = torch.max(y_hat.data, 1)\n",
    "        predicted = predicted.detach().cpu().numpy()\n",
    "        label_ids = y.cpu().numpy()\n",
    "        y_pred.append(predicted)\n",
    "        y_true.append(label_ids)\n",
    "    \n",
    "    test_loss = test_loss_total/len(dataloader) \n",
    "    y_pred = np.concatenate(y_pred, axis=0)\n",
    "    y_true = np.concatenate(y_true, axis=0)\n",
    "            \n",
    "    return test_loss, y_pred, y_true"
   ]
  },
  {
   "cell_type": "code",
   "execution_count": 57,
   "metadata": {
    "colab": {
     "base_uri": "https://localhost:8080/",
     "height": 49,
     "referenced_widgets": [
      "5075061814494d65a68ec63d93bb9a93",
      "88f59435d72e4e858d09156718323f3c",
      "1fd98ad961d64b3e8d2a7e06551b91c7",
      "48a90df0d12f4b6f814c7995eddba215",
      "e56a54c40a884e4fb44b74f3ff1cbe87",
      "1b4ce50d81614e76b69aa04bdad21b5d",
      "4450fb7e808d467f83ead720bd7921dc",
      "9d462224235f4cf0be066c1cecc822eb",
      "7f6bebbff87c4a7c8d9b5f6a5c72b249",
      "00638fe0065d40ccb2123004c68ec803",
      "3b04e1baa13c4434ad122496e88723b9"
     ]
    },
    "executionInfo": {
     "elapsed": 4314,
     "status": "ok",
     "timestamp": 1637895978575,
     "user": {
      "displayName": "Nicolas Aguirre",
      "photoUrl": "https://lh3.googleusercontent.com/a-/AOh14GjQfPiLxWme8kkxP92950-9jF1QGUs_5FsIVer1Jg=s64",
      "userId": "17499392061323227857"
     },
     "user_tz": 180
    },
    "id": "9xvu_qOSHzhe",
    "outputId": "6b50be7c-dd23-4974-9b7e-2eaebbb7ad3f"
   },
   "outputs": [
    {
     "data": {
      "application/vnd.jupyter.widget-view+json": {
       "model_id": "5075061814494d65a68ec63d93bb9a93",
       "version_major": 2,
       "version_minor": 0
      },
      "text/plain": [
       "  0%|          | 0/35 [00:00<?, ?it/s]"
      ]
     },
     "metadata": {},
     "output_type": "display_data"
    }
   ],
   "source": [
    "test_loss, y_pred, y_true = evaluate(modelo,test_dl)"
   ]
  },
  {
   "cell_type": "markdown",
   "metadata": {
    "id": "pOGS24tVZrdS"
   },
   "source": [
    "## Confusion Matrix"
   ]
  },
  {
   "cell_type": "code",
   "execution_count": 58,
   "metadata": {
    "colab": {
     "base_uri": "https://localhost:8080/",
     "height": 446
    },
    "executionInfo": {
     "elapsed": 11,
     "status": "ok",
     "timestamp": 1637895978575,
     "user": {
      "displayName": "Nicolas Aguirre",
      "photoUrl": "https://lh3.googleusercontent.com/a-/AOh14GjQfPiLxWme8kkxP92950-9jF1QGUs_5FsIVer1Jg=s64",
      "userId": "17499392061323227857"
     },
     "user_tz": 180
    },
    "id": "pJbAlA8qH0Fw",
    "outputId": "de76446c-6fd5-4603-99d7-54e9645ddd19"
   },
   "outputs": [
    {
     "name": "stdout",
     "output_type": "stream",
     "text": [
      "0.8590031432420296\n"
     ]
    },
    {
     "data": {
      "image/png": "[encoded data removed]",
      "text/plain": [
       "<Figure size 720x504 with 2 Axes>"
      ]
     },
     "metadata": {
      "needs_background": "light"
     },
     "output_type": "display_data"
    }
   ],
   "source": [
    "con_mat = confusion_matrix(y_true,y_pred)\n",
    "acc_test = accuracy_score(y_true,y_pred)\n",
    "print(acc_test)\n",
    "\n",
    "df_cm = pd.DataFrame(con_mat, index = [i for i in name_classes],\n",
    "                  columns = [i for i in name_classes])\n",
    "\n",
    "plt.figure(figsize = (10,7))\n",
    "sns.heatmap(df_cm, annot=True,fmt='g')\n",
    "plt.show()"
   ]
  },
  {
   "cell_type": "markdown",
   "metadata": {
    "id": "mHcIQeCfuJyr"
   },
   "source": [
    "# Preguntas?"
   ]
  },
  {
   "cell_type": "markdown",
   "metadata": {
    "id": "6fqNNeMMuDeN"
   },
   "source": [
    "![](https://preview.redd.it/t87gswsbmnq41.jpg?width=640&crop=smart&auto=webp&s=b2777564c452e6de90edd14ef57b8740632da573)"
   ]
  }
 ],
 "metadata": {
  "accelerator": "GPU",
  "colab": {
   "collapsed_sections": [],
   "name": "clusterai2021_clase12_RNN_NLP_Sentiment_Analysis.ipynb",
   "provenance": [],
   "toc_visible": true
  },
  "kernelspec": {
   "display_name": "Python 3 (ipykernel)",
   "language": "python",
   "name": "python3"
  },
  "language_info": {
   "codemirror_mode": {
    "name": "ipython",
    "version": 3
   },
   "file_extension": ".py",
   "mimetype": "text/x-python",
   "name": "python",
   "nbconvert_exporter": "python",
   "pygments_lexer": "ipython3",
   "version": "3.9.6"
  },
  "toc": {
   "base_numbering": 1,
   "nav_menu": {},
   "number_sections": true,
   "sideBar": true,
   "skip_h1_title": false,
   "title_cell": "Table of Contents",
   "title_sidebar": "Contents",
   "toc_cell": false,
   "toc_position": {},
   "toc_section_display": true,
   "toc_window_display": false
  },
  "widgets": {
   "application/vnd.jupyter.widget-state+json": {
    "00638fe0065d40ccb2123004c68ec803": {
     "model_module": "@jupyter-widgets/controls",
     "model_module_version": "1.5.0",
     "model_name": "DescriptionStyleModel",
     "state": {
      "_model_module": "@jupyter-widgets/controls",
      "_model_module_version": "1.5.0",
      "_model_name": "DescriptionStyleModel",
      "_view_count": null,
      "_view_module": "@jupyter-widgets/base",
      "_view_module_version": "1.2.0",
      "_view_name": "StyleView",
      "description_width": ""
     }
    },
    "1b4ce50d81614e76b69aa04bdad21b5d": {
     "model_module": "@jupyter-widgets/controls",
     "model_module_version": "1.5.0",
     "model_name": "DescriptionStyleModel",
     "state": {
      "_model_module": "@jupyter-widgets/controls",
      "_model_module_version": "1.5.0",
      "_model_name": "DescriptionStyleModel",
      "_view_count": null,
      "_view_module": "@jupyter-widgets/base",
      "_view_module_version": "1.2.0",
      "_view_name": "StyleView",
      "description_width": ""
     }
    },
    "1fd98ad961d64b3e8d2a7e06551b91c7": {
     "model_module": "@jupyter-widgets/controls",
     "model_module_version": "1.5.0",
     "model_name": "HTMLModel",
     "state": {
      "_dom_classes": [],
      "_model_module": "@jupyter-widgets/controls",
      "_model_module_version": "1.5.0",
      "_model_name": "HTMLModel",
      "_view_count": null,
      "_view_module": "@jupyter-widgets/controls",
      "_view_module_version": "1.5.0",
      "_view_name": "HTMLView",
      "description": "",
      "description_tooltip": null,
      "layout": "IPY_MODEL_4450fb7e808d467f83ead720bd7921dc",
      "placeholder": "​",
      "style": "IPY_MODEL_1b4ce50d81614e76b69aa04bdad21b5d",
      "value": "100%"
     }
    },
    "3b04e1baa13c4434ad122496e88723b9": {
     "model_module": "@jupyter-widgets/base",
     "model_module_version": "1.2.0",
     "model_name": "LayoutModel",
     "state": {
      "_model_module": "@jupyter-widgets/base",
      "_model_module_version": "1.2.0",
      "_model_name": "LayoutModel",
      "_view_count": null,
      "_view_module": "@jupyter-widgets/base",
      "_view_module_version": "1.2.0",
      "_view_name": "LayoutView",
      "align_content": null,
      "align_items": null,
      "align_self": null,
      "border": null,
      "bottom": null,
      "display": null,
      "flex": null,
      "flex_flow": null,
      "grid_area": null,
      "grid_auto_columns": null,
      "grid_auto_flow": null,
      "grid_auto_rows": null,
      "grid_column": null,
      "grid_gap": null,
      "grid_row": null,
      "grid_template_areas": null,
      "grid_template_columns": null,
      "grid_template_rows": null,
      "height": null,
      "justify_content": null,
      "justify_items": null,
      "left": null,
      "margin": null,
      "max_height": null,
      "max_width": null,
      "min_height": null,
      "min_width": null,
      "object_fit": null,
      "object_position": null,
      "order": null,
      "overflow": null,
      "overflow_x": null,
      "overflow_y": null,
      "padding": null,
      "right": null,
      "top": null,
      "visibility": null,
      "width": null
     }
    },
    "4450fb7e808d467f83ead720bd7921dc": {
     "model_module": "@jupyter-widgets/base",
     "model_module_version": "1.2.0",
     "model_name": "LayoutModel",
     "state": {
      "_model_module": "@jupyter-widgets/base",
      "_model_module_version": "1.2.0",
      "_model_name": "LayoutModel",
      "_view_count": null,
      "_view_module": "@jupyter-widgets/base",
      "_view_module_version": "1.2.0",
      "_view_name": "LayoutView",
      "align_content": null,
      "align_items": null,
      "align_self": null,
      "border": null,
      "bottom": null,
      "display": null,
      "flex": null,
      "flex_flow": null,
      "grid_area": null,
      "grid_auto_columns": null,
      "grid_auto_flow": null,
      "grid_auto_rows": null,
      "grid_column": null,
      "grid_gap": null,
      "grid_row": null,
      "grid_template_areas": null,
      "grid_template_columns": null,
      "grid_template_rows": null,
      "height": null,
      "justify_content": null,
      "justify_items": null,
      "left": null,
      "margin": null,
      "max_height": null,
      "max_width": null,
      "min_height": null,
      "min_width": null,
      "object_fit": null,
      "object_position": null,
      "order": null,
      "overflow": null,
      "overflow_x": null,
      "overflow_y": null,
      "padding": null,
      "right": null,
      "top": null,
      "visibility": null,
      "width": null
     }
    },
    "48a90df0d12f4b6f814c7995eddba215": {
     "model_module": "@jupyter-widgets/controls",
     "model_module_version": "1.5.0",
     "model_name": "FloatProgressModel",
     "state": {
      "_dom_classes": [],
      "_model_module": "@jupyter-widgets/controls",
      "_model_module_version": "1.5.0",
      "_model_name": "FloatProgressModel",
      "_view_count": null,
      "_view_module": "@jupyter-widgets/controls",
      "_view_module_version": "1.5.0",
      "_view_name": "ProgressView",
      "bar_style": "success",
      "description": "",
      "description_tooltip": null,
      "layout": "IPY_MODEL_7f6bebbff87c4a7c8d9b5f6a5c72b249",
      "max": 35,
      "min": 0,
      "orientation": "horizontal",
      "style": "IPY_MODEL_9d462224235f4cf0be066c1cecc822eb",
      "value": 35
     }
    },
    "5075061814494d65a68ec63d93bb9a93": {
     "model_module": "@jupyter-widgets/controls",
     "model_module_version": "1.5.0",
     "model_name": "HBoxModel",
     "state": {
      "_dom_classes": [],
      "_model_module": "@jupyter-widgets/controls",
      "_model_module_version": "1.5.0",
      "_model_name": "HBoxModel",
      "_view_count": null,
      "_view_module": "@jupyter-widgets/controls",
      "_view_module_version": "1.5.0",
      "_view_name": "HBoxView",
      "box_style": "",
      "children": [
       "IPY_MODEL_1fd98ad961d64b3e8d2a7e06551b91c7",
       "IPY_MODEL_48a90df0d12f4b6f814c7995eddba215",
       "IPY_MODEL_e56a54c40a884e4fb44b74f3ff1cbe87"
      ],
      "layout": "IPY_MODEL_88f59435d72e4e858d09156718323f3c"
     }
    },
    "7f6bebbff87c4a7c8d9b5f6a5c72b249": {
     "model_module": "@jupyter-widgets/base",
     "model_module_version": "1.2.0",
     "model_name": "LayoutModel",
     "state": {
      "_model_module": "@jupyter-widgets/base",
      "_model_module_version": "1.2.0",
      "_model_name": "LayoutModel",
      "_view_count": null,
      "_view_module": "@jupyter-widgets/base",
      "_view_module_version": "1.2.0",
      "_view_name": "LayoutView",
      "align_content": null,
      "align_items": null,
      "align_self": null,
      "border": null,
      "bottom": null,
      "display": null,
      "flex": null,
      "flex_flow": null,
      "grid_area": null,
      "grid_auto_columns": null,
      "grid_auto_flow": null,
      "grid_auto_rows": null,
      "grid_column": null,
      "grid_gap": null,
      "grid_row": null,
      "grid_template_areas": null,
      "grid_template_columns": null,
      "grid_template_rows": null,
      "height": null,
      "justify_content": null,
      "justify_items": null,
      "left": null,
      "margin": null,
      "max_height": null,
      "max_width": null,
      "min_height": null,
      "min_width": null,
      "object_fit": null,
      "object_position": null,
      "order": null,
      "overflow": null,
      "overflow_x": null,
      "overflow_y": null,
      "padding": null,
      "right": null,
      "top": null,
      "visibility": null,
      "width": null
     }
    },
    "88f59435d72e4e858d09156718323f3c": {
     "model_module": "@jupyter-widgets/base",
     "model_module_version": "1.2.0",
     "model_name": "LayoutModel",
     "state": {
      "_model_module": "@jupyter-widgets/base",
      "_model_module_version": "1.2.0",
      "_model_name": "LayoutModel",
      "_view_count": null,
      "_view_module": "@jupyter-widgets/base",
      "_view_module_version": "1.2.0",
      "_view_name": "LayoutView",
      "align_content": null,
      "align_items": null,
      "align_self": null,
      "border": null,
      "bottom": null,
      "display": null,
      "flex": null,
      "flex_flow": null,
      "grid_area": null,
      "grid_auto_columns": null,
      "grid_auto_flow": null,
      "grid_auto_rows": null,
      "grid_column": null,
      "grid_gap": null,
      "grid_row": null,
      "grid_template_areas": null,
      "grid_template_columns": null,
      "grid_template_rows": null,
      "height": null,
      "justify_content": null,
      "justify_items": null,
      "left": null,
      "margin": null,
      "max_height": null,
      "max_width": null,
      "min_height": null,
      "min_width": null,
      "object_fit": null,
      "object_position": null,
      "order": null,
      "overflow": null,
      "overflow_x": null,
      "overflow_y": null,
      "padding": null,
      "right": null,
      "top": null,
      "visibility": null,
      "width": null
     }
    },
    "9d462224235f4cf0be066c1cecc822eb": {
     "model_module": "@jupyter-widgets/controls",
     "model_module_version": "1.5.0",
     "model_name": "ProgressStyleModel",
     "state": {
      "_model_module": "@jupyter-widgets/controls",
      "_model_module_version": "1.5.0",
      "_model_name": "ProgressStyleModel",
      "_view_count": null,
      "_view_module": "@jupyter-widgets/base",
      "_view_module_version": "1.2.0",
      "_view_name": "StyleView",
      "bar_color": null,
      "description_width": ""
     }
    },
    "e56a54c40a884e4fb44b74f3ff1cbe87": {
     "model_module": "@jupyter-widgets/controls",
     "model_module_version": "1.5.0",
     "model_name": "HTMLModel",
     "state": {
      "_dom_classes": [],
      "_model_module": "@jupyter-widgets/controls",
      "_model_module_version": "1.5.0",
      "_model_name": "HTMLModel",
      "_view_count": null,
      "_view_module": "@jupyter-widgets/controls",
      "_view_module_version": "1.5.0",
      "_view_name": "HTMLView",
      "description": "",
      "description_tooltip": null,
      "layout": "IPY_MODEL_3b04e1baa13c4434ad122496e88723b9",
      "placeholder": "​",
      "style": "IPY_MODEL_00638fe0065d40ccb2123004c68ec803",
      "value": " 35/35 [00:04&lt;00:00,  8.20it/s]"
     }
    }
   }
  }
 },
 "nbformat": 4,
 "nbformat_minor": 1
}
